{
 "cells": [
  {
   "cell_type": "markdown",
   "metadata": {},
   "source": [
    "# Discretização e seleção de atributos:\n",
    "https://docs.biolab.si//3/data-mining-library/reference/preprocess.html\n",
    "## Discretização:"
   ]
  },
  {
   "cell_type": "code",
   "execution_count": 40,
   "metadata": {},
   "outputs": [
    {
     "name": "stdout",
     "output_type": "stream",
     "text": [
      "Original dataset:\n",
      "[25300, 14167.0, ?, Vocation, 500, 7297, 1920, 3.80, 5107, 0.70, 1.40277, 33, 0, 65.4278, 1148.040, 15.6949, 18.4604, 216.451, 12.650, 1.59589, 1.59589, 1.6, ?, 2.3, Dolomitized_Thrombolite, FALSE, FALSE, FALSE, FALSE, FALSE, TRUE, FALSE, FALSE, FALSE, TRUE, FALSE, Vuggy_Intercrystalline, TRUE, FALSE, TRUE, FALSE, FALSE, FALSE, FALSE, FALSE, FALSE, 426.017, 0.501287, 0.11136, 1, 21.35200, 0.196132, 1, 45.3012, 6891, 10569, 13.0592, 86.9408, 10127, 9517, 3.09240, 2.64466, 5.38740, 9.63996, 166, 113, 19.3436, 6.16810, 72.0278, 35.5890, 255, 225, 4.72512, 2.40647, 9.20382, 6.65924, 44, 19, 28.4077, 9.94341, 128.946, 72.6859, 6.29749, 6.41542, 5.88177, 0.271, 1.371, 2.139, 9099, 8719.625, -8718.625, -6.975e-05, 0.000, 0.0000, 0.000, 0.0001, A] {A13, 1599_141670, 1599, P0.0001}\n",
      "Discretized dataset:\n",
      "[≥ 25225, ≥ 11833.4, ?, Vocation, < 34582, < 3903, < 5.38, < 36033, < 6.69, < 1.79293, 30 - 43, 0, ≥ 61.3875, ≥ 572.276, ≥ 15.6484, ≥ 15.7248, ≥ 174.328, ≥ 12.613, < 5.2998, < 5.29935, < 5.2, ?, < 11.5, Dolomitized_Thrombolite, FALSE, FALSE, FALSE, FALSE, FALSE, TRUE, FALSE, FALSE, FALSE, TRUE, FALSE, Vuggy_Intercrystalline, TRUE, FALSE, TRUE, FALSE, FALSE, FALSE, FALSE, FALSE, FALSE, < 2726.045, ≥ 0.150975, ≥ 0.108295, 1, ≥ 19.54685, ≥ 0.182952, 1, ≥ 33.5301, < 28945, < 32162, < 13.4611, ≥ 86.5388, < 27733, < 26007, ≥ 2.7115, ≥ 2.20295, ≥ 4.37118, ≥ 7.12124, 134 - 602, 78 - 397, < 21.3367, < 7.32859, < 83.3965, < 44.3547, < 703, < 686, ≥ 3.66962, ≥ 2.11056, ≥ 6.41729, ≥ 5.50971, < 46, < 23, 28.0936 - 31.3803, 9.92571 - 12.4039, 128.448 - 148.526, 67.8344 - 91.8678, ≥ 5.22044, ≥ 5.20123, ≥ 5.11627, ≥ 0.215, ≥ 1.275, < 2.726, 9030 - 49204, 8138.625 - 46695.625, -46694.625 - -8137.625, -0.00037355 - -6.51e-05, < 18.349, < 9.2674, < 13.479, < 20.75, A] {A13, 1599_141670, 1599, P0.0001}\n"
     ]
    }
   ],
   "source": [
    "import Orange\n",
    "import Orange.data\n",
    "data = Orange.data.Table(\"/home/odair/PC_e_HDs_externos/pos-doutorado/arranjo-01[b]---18---amostras-selecionadas-Celso-em-12-06-2018-que-percolam-sem-espacos-entre-virgulas.csv\")\n",
    "dataset.head(5) #Mostras as primeiras n linhas\n",
    "#dataset #Mostra toda a tabela\n",
    "disc = Orange.preprocess.Discretize()\n",
    "disc.method = Orange.preprocess.discretize.EqualFreq(n=3)\n",
    "d_data = disc(data)\n",
    "\n",
    "print(\"Original dataset:\")\n",
    "for e in data[:1]:\n",
    "    print(e)\n",
    "\n",
    "print(\"Discretized dataset:\")\n",
    "for e in d_data[:1]:\n",
    "    print(e)\n",
    "\n",
    "#import Orange\n",
    "#iris = Orange.data.Table(\"iris.tab\")\n",
    "#disc = Orange.preprocess.Discretize()\n",
    "#disc.method = Orange.preprocess.discretize.EqualFreq(n=3)\n",
    "#d_iris = disc(iris)\n",
    "\n",
    "#print(\"Original dataset:\")\n",
    "#for e in iris[:3]:\n",
    "#    print(e)\n",
    "\n",
    "#print(\"Discretized dataset:\")\n",
    "#for e in d_iris[:3]:\n",
    "#    print(e)"
   ]
  },
  {
   "cell_type": "markdown",
   "metadata": {},
   "source": [
    "---\n",
    "## Selecionando 2 melhores atributos pelo ANOVA (k=2)"
   ]
  },
  {
   "cell_type": "code",
   "execution_count": 14,
   "metadata": {},
   "outputs": [
    {
     "data": {
      "text/plain": [
       "[petal length, petal width | iris]"
      ]
     },
     "execution_count": 14,
     "metadata": {},
     "output_type": "execute_result"
    }
   ],
   "source": [
    "import Orange\n",
    "data = Orange.data.Table(\"iris.tab\")\n",
    "anova = Orange.preprocess.score.ANOVA()\n",
    "selector = Orange.preprocess.SelectBestFeatures(method=anova, k=2)\n",
    "data2 = selector(data)\n",
    "data2.domain"
   ]
  },
  {
   "cell_type": "markdown",
   "metadata": {},
   "source": [
    "---\n",
    "## Feature Selections"
   ]
  },
  {
   "cell_type": "code",
   "execution_count": 28,
   "metadata": {},
   "outputs": [
    {
     "name": "stderr",
     "output_type": "stream",
     "text": [
      "/home/odair/anaconda3/lib/python3.7/site-packages/ipykernel_launcher.py:4: OrangeDeprecationWarning: Passing data into InfoGain constructor is deprecated. Instead, first make an instance, i.e. InfoGain(), then call it with data.\n",
      "  after removing the cwd from sys.path.\n"
     ]
    },
    {
     "data": {
      "text/plain": [
       "array([0.62439328, 0.36124118, 1.08641349, 1.05881048])"
      ]
     },
     "execution_count": 28,
     "metadata": {},
     "output_type": "execute_result"
    }
   ],
   "source": [
    "import Orange\n",
    "import Orange.data\n",
    "data = Orange.data.Table(\"iris.tab\")\n",
    "Orange.preprocess.score.InfoGain(data, \"tear_rate\")"
   ]
  },
  {
   "cell_type": "markdown",
   "metadata": {},
   "source": [
    "---\n",
    "## Importando os dados de seus arquivos (\".csv\")"
   ]
  },
  {
   "cell_type": "code",
   "execution_count": 24,
   "metadata": {},
   "outputs": [
    {
     "data": {
      "text/plain": [
       "(ContinuousVariable(name='fixed acidity', number_of_decimals=1),\n",
       " ContinuousVariable(name='volatile acidity', number_of_decimals=3),\n",
       " ContinuousVariable(name='citric acid', number_of_decimals=2),\n",
       " ContinuousVariable(name='residual sugar', number_of_decimals=2),\n",
       " ContinuousVariable(name='chlorides', number_of_decimals=3),\n",
       " ContinuousVariable(name='free sulfur dioxide', number_of_decimals=1),\n",
       " ContinuousVariable(name='total sulfur dioxide', number_of_decimals=1),\n",
       " ContinuousVariable(name='density', number_of_decimals=5),\n",
       " ContinuousVariable(name='pH', number_of_decimals=2),\n",
       " ContinuousVariable(name='sulphates', number_of_decimals=2),\n",
       " ContinuousVariable(name='alcohol', number_of_decimals=14),\n",
       " ContinuousVariable(name='quality', number_of_decimals=0))"
      ]
     },
     "execution_count": 24,
     "metadata": {},
     "output_type": "execute_result"
    }
   ],
   "source": [
    "import Orange\n",
    "import Orange.data\n",
    "data = Orange.data.Table(\"/home/odair/PC_e_HDs_externos/pos-doutorado/winequality-red.csv\")\n",
    "#data[0]\n",
    "#data.domain\n",
    "data.domain.attributes"
   ]
  },
  {
   "cell_type": "markdown",
   "metadata": {},
   "source": [
    "---\n",
    "## Importando \".csv\" com Pandas"
   ]
  },
  {
   "cell_type": "code",
   "execution_count": 25,
   "metadata": {},
   "outputs": [
    {
     "name": "stdout",
     "output_type": "stream",
     "text": [
      "0.24.2\n"
     ]
    }
   ],
   "source": [
    "import pandas as pd\n",
    "# Versão do Pandas.\n",
    "print(pd.__version__)"
   ]
  },
  {
   "cell_type": "code",
   "execution_count": 27,
   "metadata": {},
   "outputs": [
    {
     "data": {
      "text/html": [
       "<div>\n",
       "<style scoped>\n",
       "    .dataframe tbody tr th:only-of-type {\n",
       "        vertical-align: middle;\n",
       "    }\n",
       "\n",
       "    .dataframe tbody tr th {\n",
       "        vertical-align: top;\n",
       "    }\n",
       "\n",
       "    .dataframe thead th {\n",
       "        text-align: right;\n",
       "    }\n",
       "</style>\n",
       "<table border=\"1\" class=\"dataframe\">\n",
       "  <thead>\n",
       "    <tr style=\"text-align: right;\">\n",
       "      <th></th>\n",
       "      <th>label</th>\n",
       "      <th>NomedaAmostra</th>\n",
       "      <th>Resolução(nm)</th>\n",
       "      <th>Permit</th>\n",
       "      <th>Depth(ft)</th>\n",
       "      <th>Well</th>\n",
       "      <th>Campo</th>\n",
       "      <th>Cubo(Pixels)</th>\n",
       "      <th>NP</th>\n",
       "      <th>NPI</th>\n",
       "      <th>...</th>\n",
       "      <th>Euler-Characteristic</th>\n",
       "      <th>Delta_Xi</th>\n",
       "      <th>Connectivity</th>\n",
       "      <th>Conn_D_pixel3</th>\n",
       "      <th>k_x[mD]</th>\n",
       "      <th>k_y[mD]</th>\n",
       "      <th>k_z[mD]</th>\n",
       "      <th>Permeabilidade_Experimental[mD]</th>\n",
       "      <th>Permeab_Exp_mD_Categorizado[A]</th>\n",
       "      <th>Permeab_Exp_mD_Categorizado[B]</th>\n",
       "    </tr>\n",
       "  </thead>\n",
       "  <tbody>\n",
       "    <tr>\n",
       "      <th>0</th>\n",
       "      <td>A13</td>\n",
       "      <td>1599_141670</td>\n",
       "      <td>25300</td>\n",
       "      <td>1599</td>\n",
       "      <td>14167.0</td>\n",
       "      <td>?</td>\n",
       "      <td>Vocation</td>\n",
       "      <td>500</td>\n",
       "      <td>7297</td>\n",
       "      <td>1920</td>\n",
       "      <td>...</td>\n",
       "      <td>9099</td>\n",
       "      <td>8719.625</td>\n",
       "      <td>-8718.625</td>\n",
       "      <td>-0.000070</td>\n",
       "      <td>0.000</td>\n",
       "      <td>0.0000</td>\n",
       "      <td>0.000</td>\n",
       "      <td>0.0001</td>\n",
       "      <td>P0.0001</td>\n",
       "      <td>A</td>\n",
       "    </tr>\n",
       "    <tr>\n",
       "      <th>1</th>\n",
       "      <td>A23</td>\n",
       "      <td>14112_1130420</td>\n",
       "      <td>23055</td>\n",
       "      <td>14112</td>\n",
       "      <td>11304.2</td>\n",
       "      <td>9</td>\n",
       "      <td>Little_Cedar_Creek</td>\n",
       "      <td>500</td>\n",
       "      <td>68265</td>\n",
       "      <td>3902</td>\n",
       "      <td>...</td>\n",
       "      <td>-17994</td>\n",
       "      <td>-19841.750</td>\n",
       "      <td>19842.750</td>\n",
       "      <td>0.000159</td>\n",
       "      <td>103.213</td>\n",
       "      <td>49.5708</td>\n",
       "      <td>534.502</td>\n",
       "      <td>0.2710</td>\n",
       "      <td>P0.271</td>\n",
       "      <td>A</td>\n",
       "    </tr>\n",
       "    <tr>\n",
       "      <th>2</th>\n",
       "      <td>A14</td>\n",
       "      <td>1599_141705</td>\n",
       "      <td>28995</td>\n",
       "      <td>1599</td>\n",
       "      <td>14170.5</td>\n",
       "      <td>?</td>\n",
       "      <td>Vocation</td>\n",
       "      <td>500</td>\n",
       "      <td>22172</td>\n",
       "      <td>3751</td>\n",
       "      <td>...</td>\n",
       "      <td>20680</td>\n",
       "      <td>19776.250</td>\n",
       "      <td>-19775.250</td>\n",
       "      <td>-0.000158</td>\n",
       "      <td>36.697</td>\n",
       "      <td>0.0000</td>\n",
       "      <td>38.688</td>\n",
       "      <td>0.6690</td>\n",
       "      <td>P0.669</td>\n",
       "      <td>A</td>\n",
       "    </tr>\n",
       "    <tr>\n",
       "      <th>3</th>\n",
       "      <td>A20</td>\n",
       "      <td>13907_1181550</td>\n",
       "      <td>25850</td>\n",
       "      <td>13907</td>\n",
       "      <td>11815.5</td>\n",
       "      <td>7</td>\n",
       "      <td>Little_Cedar_Creek</td>\n",
       "      <td>500</td>\n",
       "      <td>44995</td>\n",
       "      <td>19335</td>\n",
       "      <td>...</td>\n",
       "      <td>171181</td>\n",
       "      <td>168232.500</td>\n",
       "      <td>-168231.500</td>\n",
       "      <td>-0.001000</td>\n",
       "      <td>0.000</td>\n",
       "      <td>0.0000</td>\n",
       "      <td>0.000</td>\n",
       "      <td>1.1400</td>\n",
       "      <td>P1.14</td>\n",
       "      <td>A</td>\n",
       "    </tr>\n",
       "    <tr>\n",
       "      <th>4</th>\n",
       "      <td>A10</td>\n",
       "      <td>13510_1153150</td>\n",
       "      <td>26570</td>\n",
       "      <td>13510</td>\n",
       "      <td>11531.5</td>\n",
       "      <td>4</td>\n",
       "      <td>Little_Cedar_Creek</td>\n",
       "      <td>500</td>\n",
       "      <td>41581</td>\n",
       "      <td>8998</td>\n",
       "      <td>...</td>\n",
       "      <td>51236</td>\n",
       "      <td>49431.750</td>\n",
       "      <td>-49430.750</td>\n",
       "      <td>-0.000395</td>\n",
       "      <td>0.000</td>\n",
       "      <td>0.0000</td>\n",
       "      <td>0.000</td>\n",
       "      <td>13.0000</td>\n",
       "      <td>P13</td>\n",
       "      <td>B</td>\n",
       "    </tr>\n",
       "  </tbody>\n",
       "</table>\n",
       "<p>5 rows × 101 columns</p>\n",
       "</div>"
      ],
      "text/plain": [
       "  label  NomedaAmostra  Resolução(nm) Permit  Depth(ft) Well  \\\n",
       "0   A13    1599_141670          25300   1599    14167.0    ?   \n",
       "1   A23  14112_1130420          23055  14112    11304.2    9   \n",
       "2   A14    1599_141705          28995   1599    14170.5    ?   \n",
       "3   A20  13907_1181550          25850  13907    11815.5    7   \n",
       "4   A10  13510_1153150          26570  13510    11531.5    4   \n",
       "\n",
       "                Campo  Cubo(Pixels)     NP    NPI  ...  Euler-Characteristic  \\\n",
       "0            Vocation           500   7297   1920  ...                  9099   \n",
       "1  Little_Cedar_Creek           500  68265   3902  ...                -17994   \n",
       "2            Vocation           500  22172   3751  ...                 20680   \n",
       "3  Little_Cedar_Creek           500  44995  19335  ...                171181   \n",
       "4  Little_Cedar_Creek           500  41581   8998  ...                 51236   \n",
       "\n",
       "     Delta_Xi  Connectivity  Conn_D_pixel3  k_x[mD]  k_y[mD]  k_z[mD]  \\\n",
       "0    8719.625     -8718.625      -0.000070    0.000   0.0000    0.000   \n",
       "1  -19841.750     19842.750       0.000159  103.213  49.5708  534.502   \n",
       "2   19776.250    -19775.250      -0.000158   36.697   0.0000   38.688   \n",
       "3  168232.500   -168231.500      -0.001000    0.000   0.0000    0.000   \n",
       "4   49431.750    -49430.750      -0.000395    0.000   0.0000    0.000   \n",
       "\n",
       "   Permeabilidade_Experimental[mD]  Permeab_Exp_mD_Categorizado[A]  \\\n",
       "0                           0.0001                         P0.0001   \n",
       "1                           0.2710                          P0.271   \n",
       "2                           0.6690                          P0.669   \n",
       "3                           1.1400                           P1.14   \n",
       "4                          13.0000                             P13   \n",
       "\n",
       "   Permeab_Exp_mD_Categorizado[B]  \n",
       "0                               A  \n",
       "1                               A  \n",
       "2                               A  \n",
       "3                               A  \n",
       "4                               B  \n",
       "\n",
       "[5 rows x 101 columns]"
      ]
     },
     "execution_count": 27,
     "metadata": {},
     "output_type": "execute_result"
    }
   ],
   "source": [
    "import pandas as pd\n",
    "dataset = pd.read_csv('/home/odair/PC_e_HDs_externos/pos-doutorado/arranjo-01[b]---18---amostras-selecionadas-Celso-em-12-06-2018-que-percolam-sem-espacos-entre-virgulas.csv')\n",
    "dataset.head(5) #Mostras as primeiras n linhas\n",
    "#dataset #Mostra toda a tabela"
   ]
  },
  {
   "cell_type": "code",
   "execution_count": 49,
   "metadata": {},
   "outputs": [
    {
     "name": "stdout",
     "output_type": "stream",
     "text": [
      "0.195 Resolução(nm)\n",
      "0.084 Depth(ft)\n",
      "0.165 Well\n",
      "0.084 NP\n",
      "0.330 Campo\n",
      "0.084 NPI\n",
      "0.112 NP/NPI\n",
      "0.459 NT\n",
      "0.279 NT/NP\n",
      "0.126 PCA\n",
      "0.459 Pch\n",
      "0.000 Pcl\n",
      "0.126 Pra\n",
      "0.195 Prh\n",
      "0.195 Prl\n",
      "0.126 Tra\n",
      "0.195 Trh\n",
      "0.195 Trl\n",
      "0.195 Poros.(C3DE)\n",
      "0.195 Poros.(iMorph)\n",
      "0.195 BV/TV(Fiji)\n",
      "0.166 PDI(Tese)\n",
      "0.542 Porosidade_Experimental(%)\n",
      "0.402 Litologia\n",
      "0.093 VeryFine\n",
      "0.093 Fine\n",
      "0.070 Medium\n",
      "0.000 Bimodal\n",
      "0.062 Peloidal\n",
      "0.070 Thrombolite\n",
      "0.070 Grainstone\n",
      "0.070 Sand\n",
      "0.093 Oolitic\n",
      "0.213 Dolomitized\n",
      "0.093 Skeletal\n",
      "0.424 TiposdePoros\n",
      "0.070 Vuggy\n",
      "0.135 Intergranular\n",
      "0.024 Intercrystalline\n",
      "0.093 Moldic\n",
      "0.070 Intragranular\n",
      "0.000 SomeIntragranular\n",
      "0.070 SomeIntercrystalline\n",
      "0.093 SomeMoldic\n",
      "0.000 Microfractures\n",
      "0.306 SuperficieEspecífica(m^2/m^3)\n",
      "0.195 WalkerRatio(%)\n",
      "0.084 Rodes_Mean_Diameter\n",
      "0.000 Rodes_Min_Diameter\n",
      "0.084 Rodes_Max_Diameter\n",
      "0.084 Plates_Mean_Diameter\n",
      "0.000 Plates_Min_Diameter\n",
      "0.126 Plates_Max_Diameter\n",
      "0.000 Rodes\n",
      "0.084 Plates\n",
      "0.084 Rode_ratio\n",
      "0.084 Plate_ratio\n",
      "0.084 Mean-Lenght(X)\n",
      "0.084 Mean-Lenght(Y)\n",
      "0.084 Mean-Lenght(Z)\n",
      "0.084 DA\n",
      "0.126 DF\n"
     ]
    }
   ],
   "source": [
    "import Orange\n",
    "import Orange.data\n",
    "data = Orange.data.Table(\"/home/odair/arranjo-01[b]---18---amostras-selecionadas-Celso-em-12-06-2018-que-percolam-sem-espacos-entre-virgulas.tab\")\n",
    "#dataset.head(5) #Mostras as primeiras n linhas\n",
    "#dataset #Mostra toda a tabela\n",
    "\n",
    "gain = Orange.preprocess.score.InfoGain()\n",
    "scores = gain(data)\n",
    "for attr, score in zip(data.domain.attributes, scores):\n",
    " print('%.3f' % score, attr.name)"
   ]
  }
 ],
 "metadata": {
  "kernelspec": {
   "display_name": "Python 3",
   "language": "python",
   "name": "python3"
  },
  "language_info": {
   "codemirror_mode": {
    "name": "ipython",
    "version": 3
   },
   "file_extension": ".py",
   "mimetype": "text/x-python",
   "name": "python",
   "nbconvert_exporter": "python",
   "pygments_lexer": "ipython3",
   "version": "3.7.3"
  }
 },
 "nbformat": 4,
 "nbformat_minor": 2
}
