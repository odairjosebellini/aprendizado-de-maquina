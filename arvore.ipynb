# https://code.tutsplus.com/pt/tutorials/introduction-to-machine-learning-in-python--cms-30623

from sklearn import tree
features = [[7, 0.6, 40], [7, 0.6, 41], [37, 600, 37], [37, 600, 38]]
#labels = [chicken, chicken, horse, horse]
labels = [0, 0, 1, 1]
classif = tree.DecisionTreeClassifier()
classif.fit(features, labels)
 
print classif.predict([[7, 0.6, 41]])
 
#output
# [0]  or a Chicken
